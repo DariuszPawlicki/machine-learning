{
  "nbformat": 4,
  "nbformat_minor": 0,
  "metadata": {
    "accelerator": "GPU",
    "colab": {
      "name": "Generative Adversarial Network.ipynb",
      "provenance": [],
      "collapsed_sections": []
    },
    "kernelspec": {
      "display_name": "Python 3",
      "name": "python3"
    }
  },
  "cells": [
    {
      "cell_type": "code",
      "metadata": {
        "id": "3UUAeF0MgvTS"
      },
      "source": [
        "import torch\n",
        "import torch.optim as optim\n",
        "from torchvision.transforms import transforms\n",
        "import numpy as np\n",
        "from utils import *\n",
        "from gan import GAN"
      ],
      "execution_count": null,
      "outputs": []
    },
    
    {
      "cell_type": "markdown",
      "metadata": {
        "id": "ASDozAPU12f9"
      },
      "source": [
        "\n",
        "\n",
        "> In this short notebook i want to test GAN model implementation correctness. </br>\n",
        "> To do this i'll train model on cosine dataset and generate points that will form cosine graph.\n"
      ]
    },
    {
      "cell_type": "code",
      "metadata": {
        "id": "yApFgCIaqKud"
      },
      "source": [
        "x_cos = torch.Tensor(2*np.pi*np.random.rand(5000))\n",
        "y_cos = torch.Tensor(np.cos(x_cos))\n",
        "xy_cos = torch.transpose(torch.vstack((x_cos, y_cos)), 0, 1)\n",
        "\n",
        "cos_dataset = [(point, label) for point, label in zip(xy_cos, torch.ones(1000, 1))]\n",
        "cos_loader = torch.utils.data.DataLoader(cos_dataset, batch_size=batch_size, shuffle=True)"
      ],
      "execution_count": null,
      "outputs": []
    },
    {
      "cell_type": "code",
      "metadata": {
        "id": "zX-gRXckqOn0"
      },
      "source": [
        "cos_gan = GAN(data_dimension=2, latent_dimension=8, discriminator_size=(256, 128, 64),\n",
        "              generator_size=(16, 32), dropout=0, batch_norm=False)\n",
        "\n",
        "layers = [layer for layer in list(cos_gan.generator.children())][0]\n",
        "cos_gan.generator = torch.nn.Sequential(*layers[:-1]) # Deleting tanh layer\n",
        "\n",
        "criterion = nn.BCELoss()\n",
        "\n",
        "discr_optim = optim.Adam(cos_gan.discriminator.parameters(), lr=1e-3)\n",
        "gene_optim = optim.Adam(cos_gan.generator.parameters(), lr=1e-3)\n",
        "\n",
        "epochs = 500\n",
        "k = 1\n",
        "\n",
        "device = get_device()\n",
        "cos_gan = cos_gan.to(device)"
      ],
      "execution_count": null,
      "outputs": []
    },
    {
      "cell_type": "code",
      "metadata": {
        "colab": {
          "base_uri": "https://localhost:8080/"
        },
        "id": "lMwmo8VCqybx",
        "outputId": "2f9ebfec-e366-46ff-8ee9-5d874c1ffd0d"
      },
      "source": [
        "for epoch in range(epochs):\n",
        "  \n",
        "  discr_epoch_loss, gene_epoch_loss = train_gan(cos_gan, discr_optim, gene_optim, criterion, cos_loader)\n",
        "  \n",
        "  if (epoch+1) % 100 == 0:\n",
        "    print(\"Loss in epoch: \", (epoch+1))\n",
        "    print(\"Discriminator: \", np.mean(discr_epoch_loss))\n",
        "    print(\"Generator: \", np.mean(gene_epoch_loss))    "
      ],
      "execution_count": null,
      "outputs": [
        {
          "output_type": "stream",
          "text": [
            "Loss in epoch:  100\n",
            "Discriminator:  1.046181472018361\n",
            "Generator:  0.5601336443796754\n",
            "Loss in epoch:  200\n",
            "Discriminator:  1.0881054140627384\n",
            "Generator:  0.5333443498238921\n",
            "Loss in epoch:  300\n",
            "Discriminator:  1.3405879102647305\n",
            "Generator:  0.5803671516478062\n",
            "Loss in epoch:  400\n",
            "Discriminator:  0.9999624155461788\n",
            "Generator:  0.4569789385423064\n",
            "Loss in epoch:  500\n",
            "Discriminator:  1.2555582970380783\n",
            "Generator:  0.598347800783813\n"
          ],
          "name": "stdout"
        }
      ]
    },
    {
      "cell_type": "markdown",
      "metadata": {
        "id": "37he2Qch2sJj"
      },
      "source": [
        "> Let's generate some data points, and plot them."
      ]
    },
    {
      "cell_type": "code",
      "metadata": {
        "colab": {
          "base_uri": "https://localhost:8080/",
          "height": 282
        },
        "id": "T0ErbfgKw7xy",
        "outputId": "a26855f2-7fce-4ca6-861b-b203ef16402e"
      },
      "source": [
        "cos_gan.cpu()\n",
        "\n",
        "gen_cos = cos_gan.generate(1000).detach()\n",
        "\n",
        "plt.scatter(gen_cos[:, 0], gen_cos[:, 1])"
      ],
      "execution_count": null,
      "outputs": [
        {
          "output_type": "execute_result",
          "data": {
            "text/plain": [
              "<matplotlib.collections.PathCollection at 0x7fb826457c90>"
            ]
          },
          "metadata": {
            "tags": []
          },
          "execution_count": 14
        },
        {
          "output_type": "display_data",
          "data": {
            "image/png": "[encoded data removed]",
            "text/plain": [
              "<Figure size 432x288 with 1 Axes>"
            ]
          },
          "metadata": {
            "tags": [],
            "needs_background": "light"
          }
        }
      ]
    },
    {
      "cell_type": "markdown",
      "metadata": {
        "id": "QsWNoY9t2ykR"
      },
      "source": [
        "> We can see that model approximate cosine graph accurately."
      ]
    }
  ]
}
