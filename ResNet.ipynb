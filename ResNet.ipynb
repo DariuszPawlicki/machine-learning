{
  "nbformat": 4,
  "nbformat_minor": 0,
  "metadata": {
    "colab": {
      "name": "ResNet.ipynb",
      "provenance": [],
      "collapsed_sections": []
    },
    "kernelspec": {
      "name": "python3",
      "display_name": "Python 3"
    },
    "accelerator": "GPU"
  },
  "cells": [
    {
      "cell_type": "markdown",
      "metadata": {
        "id": "UkyZ5uFbVa9b"
      },
      "source": [
        "# **Introduction**\n",
        "\n",
        "Resnets introduced in [this](https://arxiv.org/pdf/1512.03385.pdf) paper, are solving a degradation problem which concerns very deep standard neural network architectures.\n",
        "Degradation is counterintuitive behaviour of deep neural networks, it takes place when\n",
        "trained very deep model has a training error and test error rate significantly higher than shallower architectures.\n",
        "Research team hypothesized that it can be due to fact, that deep networks have a problem with learn an identity mapping between layers which they prove empirically.\n",
        "\n",
        "In this notebook i will implement an resnet variation for classifying a CIFAR-10 dataset.\n",
        "\n"
      ]
    },
    {
      "cell_type": "markdown",
      "metadata": {
        "id": "MvQ2RbqdXDlc"
      },
      "source": [
        "## **1. Data preprocessing and initial configuration**"
      ]
    },
    {
      "cell_type": "code",
      "metadata": {
        "id": "5ixUHaYxhwK_"
      },
      "source": [
        "import torch\n",
        "import torch.optim as optim\n",
        "import torch.nn as nn\n",
        "from torchvision import transforms\n",
        "import numpy as np\n",
        "from resnet import ResNet\n",
        "from utils import *"
      ],
      "execution_count": 2,
      "outputs": []
    },
    {
      "cell_type": "markdown",
      "metadata": {
        "id": "68UTZt69suPb"
      },
      "source": [
        "\n",
        "\n",
        "> Augmenting data and dividing dataset as described in paper.\n",
        "\n"
      ]
    },
    {
      "cell_type": "code",
      "metadata": {
        "id": "gVVy0o7UZEN2"
      },
      "source": [
        "transform = transforms.Compose([transforms.Pad(4),\n",
        "                                transforms.RandomHorizontalFlip(),\n",
        "                                transforms.RandomCrop(32),\n",
        "                                transforms.ToTensor()])\n",
        "\n",
        "train_loader, valid_loader, test_loader = load_data(transform=transform, valid_size=0.9)"
      ],
      "execution_count": null,
      "outputs": []
    },
    {
      "cell_type": "markdown",
      "metadata": {
        "id": "heTmBVoxtEN1"
      },
      "source": [
        "## **2. Model**"
      ]
    },
    {
      "cell_type": "markdown",
      "metadata": {
        "id": "GVxjwOgJtJDn"
      },
      "source": [
        "\n",
        "\n",
        "> Network is implemented in 'resnet.py' file. </br>\n",
        "> To make sure, that model is implemented correctly, i will overfit \n",
        "> it to one batch of data.\n",
        "\n"
      ]
    },
    {
      "cell_type": "code",
      "metadata": {
        "id": "Dru7lMv-p1dz",
        "colab": {
          "base_uri": "https://localhost:8080/"
        },
        "outputId": "a1b707af-051a-448a-a718-d8d956aa71a2"
      },
      "source": [
        "model = ResNet(size=5)\n",
        "x, y = next(iter(train_loader))\n",
        "\n",
        "criterion = nn.CrossEntropyLoss()\n",
        "optimizer = optim.SGD(model.parameters(), lr=0.01, momentum=0.9, weight_decay=1e-4)\n",
        "\n",
        "for epoch in range(100):\n",
        "  scores = model(x)\n",
        "  loss = criterion(scores, y)\n",
        "\n",
        "  if (epoch+1) % 10 == 0:\n",
        "    print(\"Loss in epoch {}: {}\".format((epoch+1), loss.item()))\n",
        "\n",
        "  optimizer.zero_grad()\n",
        "  loss.backward()\n",
        "  optimizer.step()"
      ],
      "execution_count": null,
      "outputs": [
        {
          "output_type": "stream",
          "text": [
            "Loss in epoch 10: 2.2568840980529785\n",
            "Loss in epoch 20: 1.049072027206421\n",
            "Loss in epoch 30: 0.2272595763206482\n",
            "Loss in epoch 40: 0.029123462736606598\n",
            "Loss in epoch 50: 0.007931246422231197\n",
            "Loss in epoch 60: 0.0036732323933392763\n",
            "Loss in epoch 70: 0.0024713214952498674\n",
            "Loss in epoch 80: 0.001950036734342575\n",
            "Loss in epoch 90: 0.0016692706849426031\n",
            "Loss in epoch 100: 0.0014904745621606708\n"
          ],
          "name": "stdout"
        }
      ]
    },
    {
      "cell_type": "markdown",
      "metadata": {
        "id": "PaPihZ7ruFBq"
      },
      "source": [
        "> As shown above, loss is decreasing over time so model is \n",
        "> capable to learn."
      ]
    },
    {
      "cell_type": "markdown",
      "metadata": {
        "id": "xyorfgbu3Zsb"
      },
      "source": [
        "## **3. Training**\n",
        "\n",
        "\n",
        "\n",
        "> Training phase is pretty well described in paper with all hyperparameters given, </br>\n",
        "> so I'll use them instead doing hyperparameters tuning. </br>\n",
        "> I will train two very deep models - 44 layers - to compare their performance.\n",
        "> One model will be resnet and second will be a plain convolutional neural network.\n",
        "\n"
      ]
    },
    {
      "cell_type": "code",
      "metadata": {
        "id": "PJYpm5YFVXEU"
      },
      "source": [
        "resnet44 = ResNet(7)\n",
        "plain44 = ResNet(7, shortcuts=False)\n",
        "\n",
        "models = {'resnet44': resnet44, 'plain44': plain44}\n",
        "results = {}\n",
        "\n",
        "epochs = 80"
      ],
      "execution_count": 7,
      "outputs": []
    },
    {
      "cell_type": "code",
      "metadata": {
        "id": "FyqYTwZS6GNQ"
      },
      "source": [
        "for name, model in models.items():\n",
        "\n",
        "  criterion = nn.CrossEntropyLoss()\n",
        "  optimizer = optim.Adam(model.parameters(), lr=0.1, weight_decay=1e-4)\n",
        "  scheduler = optim.lr_scheduler.ReduceLROnPlateau(optimizer, patience=3, threshold=1e-2)\n",
        "\n",
        "  results[name] = {'tr_loss': [], 'val_loss': []}\n",
        "\n",
        "  cur_lr = 0.1\n",
        "  best_val_loss = np.inf\n",
        "\n",
        "  print('-'*20)\n",
        "  print(\"TRAINING: \", name.upper())\n",
        "  print('-'*20)\n",
        "\n",
        "  for epoch in range(epochs):\n",
        "    train_loss = train(model, optimizer, criterion, train_loader)\n",
        "\n",
        "    print(\"\\nTraining loss in epoch {}: {}\".format((epoch+1), train_loss))\n",
        "\n",
        "    scheduler.step(train_loss)\n",
        "\n",
        "    for param in optimizer.param_groups:\n",
        "      lr = param['lr']\n",
        "    \n",
        "    if lr < cur_lr:\n",
        "      print(\"Learning rate was reduced from {} to {}.\".format(cur_lr, lr))\n",
        "      cur_lr = lr\n",
        "\n",
        "    if (epoch+1) % 5 == 0:\n",
        "      validation_loss = validate(model, criterion, valid_loader)\n",
        "\n",
        "      print(\"Validation loss in epoch {}: {}\".format((epoch+1), validation_loss))\n",
        "\n",
        "      if validation_loss < best_val_loss:\n",
        "        best_val_loss = validation_loss\n",
        "\n",
        "        print(\"Achieved new best validation loss, saving model parameters.\")\n",
        "        torch.save(model.state_dict(), \"./{}_state.pt\".format(name))\n",
        "      \n",
        "      \n",
        "      results[name]['tr_loss'].append(train_loss)\n",
        "      results[name]['val_loss'].append(validation_loss)   "
      ],
      "execution_count": null,
      "outputs": []
    },
    {
      "cell_type": "markdown",
      "metadata": {
        "id": "Cbl3Kg7gzOfn"
      },
      "source": [
        "\n",
        "\n",
        "> Loading best set of parameters for each model.\n",
        "\n"
      ]
    },
    {
      "cell_type": "code",
      "metadata": {
        "id": "uQbnpTsny-pq"
      },
      "source": [
        "for name, model in models.items():\n",
        "  model.load_state_dict(torch.load(\"./{}_state.pt\".format(name)))"
      ],
      "execution_count": 9,
      "outputs": []
    },
    {
      "cell_type": "markdown",
      "metadata": {
        "id": "njy_bD6gy0_J"
      },
      "source": [
        "## **4. Results**"
      ]
    },
    {
      "cell_type": "code",
      "metadata": {
        "id": "Le9IzuOe78jG"
      },
      "source": [
        "import matplotlib.pyplot as plt\n",
        "%matplotlib inline"
      ],
      "execution_count": 10,
      "outputs": []
    },
    {
      "cell_type": "code",
      "metadata": {
        "id": "XIm1peUfzwpg"
      },
      "source": [
        "plt.figure(figsize=(50, 30))\n",
        "\n",
        "fig, axs = plt.subplots(2, 2, dpi=100)\n",
        "fig.tight_layout()"
      ],
      "execution_count": null,
      "outputs": []
    },
    {
      "cell_type": "code",
      "metadata": {
        "id": "_XGVdmZE0i71"
      },
      "source": [
        "results_res44 = results['resnet44']\n",
        "results_plain44 = results['plain44']\n",
        "\n",
        "x_values = 5 * np.arange(1, len(results_res44['tr_loss']) + 1, 1)"
      ],
      "execution_count": 20,
      "outputs": []
    },
    {
      "cell_type": "code",
      "metadata": {
        "id": "Xd8UKTab2OrK",
        "colab": {
          "base_uri": "https://localhost:8080/",
          "height": 423
        },
        "outputId": "b5b750a1-e207-4b1d-8dab-03942cb0f6d4"
      },
      "source": [
        "axs[0][0].title.set_text('ResNet44')\n",
        "axs[0][1].title.set_text('ResNet44')\n",
        "axs[0][0].plot(x_values, results_res44['tr_loss'], label='Training')\n",
        "axs[0][1].plot(x_values, results_res44['val_loss'], 'g', label='Validation')\n",
        "axs[0][0].legend(loc=\"upper right\")\n",
        "axs[0][1].legend(loc=\"upper right\")\n",
        "\n",
        "\n",
        "axs[1][0].title.set_text('Plain44')\n",
        "axs[1][1].title.set_text('Plain44')\n",
        "axs[1][0].plot(x_values, results_plain44['tr_loss'], label='Training')\n",
        "axs[1][1].plot(x_values, results_plain44['val_loss'], 'g', label='Validation')\n",
        "axs[1][0].legend(loc=\"lower right\")\n",
        "axs[1][1].legend(loc=\"upper right\")\n",
        "\n",
        "fig"
      ],
      "execution_count": 31,
      "outputs": [
        {
          "output_type": "execute_result",
          "data": {
            "image/png": "[encoded data removed]",
            "text/plain": [
              "<Figure size 600x400 with 4 Axes>"
            ]
          },
          "metadata": {
            "tags": []
          },
          "execution_count": 31
        }
      ]
    },
    {
      "cell_type": "markdown",
      "metadata": {
        "id": "Sn44HvXTPvZ9"
      },
      "source": [
        "\n",
        "\n",
        "> As we can see on plot, resnet validation loss and training loss </br>\n",
        "> decreased over time, when training and validation loss of plain cnn practically did not change, training loss even increased. </br>\n",
        "> We can clearly see, that degradation problem is well addressed by resnet."
      ]
    },
    {
      "cell_type": "code",
      "metadata": {
        "id": "s9ilcFrcQpwx",
        "colab": {
          "base_uri": "https://localhost:8080/"
        },
        "outputId": "df971edf-6cf5-4582-de27-87bd0d1d9ad7"
      },
      "source": [
        "print(\"ResNet44 accuracy: {:.2%}\".format(evaluate_acc(resnet44, test_loader)))\n",
        "print(\"Plain44 accuracy: {:.2%}\".format(evaluate_acc(plain44, test_loader)))"
      ],
      "execution_count": 29,
      "outputs": [
        {
          "output_type": "stream",
          "text": [
            "ResNet44 accuracy: 65.41%\n",
            "Plain44 accuracy: 10.00%\n"
          ],
          "name": "stdout"
        }
      ]
    },
    {
      "cell_type": "markdown",
      "metadata": {
        "id": "Fu99fdefSsZU"
      },
      "source": [
        "\n",
        "\n",
        "> 10% accuracy score for plain network clearly shows, that this model\n",
        "> did not learn anything. </br>CIFAR-10 contains 10 classes, so accuracy of this model is equal to accuracy of random guessing correct class of given image.\n",
        "\n"
      ]
    },
    {
      "cell_type": "markdown",
      "metadata": {
        "id": "A_SCd5TwSYV1"
      },
      "source": [
        "\n",
        "\n",
        "> \n",
        "\n"
      ]
    }
  ]
}